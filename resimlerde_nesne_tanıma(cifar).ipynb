{
 "cells": [
  {
   "cell_type": "code",
   "execution_count": 1,
   "id": "5e9b41b6-010e-40ee-97ca-f706be22f856",
   "metadata": {},
   "outputs": [],
   "source": [
    "import tensorflow as tf\n",
    "from tensorflow.keras import datasets, layers, models\n",
    "import pandas as pd\n",
    "import numpy as np\n",
    "import matplotlib.pyplot as plt"
   ]
  },
  {
   "cell_type": "markdown",
   "id": "fb6cd35c-d1ed-4e72-be82-d4dde5579f6e",
   "metadata": {},
   "source": [
    "dataset indirilmesi"
   ]
  },
  {
   "cell_type": "code",
   "execution_count": 2,
   "id": "651c5476-eb0b-4895-ab39-4408a7bd8f62",
   "metadata": {},
   "outputs": [],
   "source": [
    "(X_train, y_train), (X_test, y_test) = datasets.cifar10.load_data()"
   ]
  },
  {
   "cell_type": "code",
   "execution_count": 3,
   "id": "15d822fd-d909-4818-af63-4bf11563ac77",
   "metadata": {},
   "outputs": [
    {
     "data": {
      "text/plain": [
       "(50000, 32, 32, 3)"
      ]
     },
     "execution_count": 3,
     "metadata": {},
     "output_type": "execute_result"
    }
   ],
   "source": [
    "X_train.shape"
   ]
  },
  {
   "cell_type": "code",
   "execution_count": 4,
   "id": "a2371678-0579-4ba7-8bef-de855ef667ae",
   "metadata": {},
   "outputs": [
    {
     "data": {
      "text/plain": [
       "(10000, 32, 32, 3)"
      ]
     },
     "execution_count": 4,
     "metadata": {},
     "output_type": "execute_result"
    }
   ],
   "source": [
    "X_test.shape"
   ]
  },
  {
   "cell_type": "markdown",
   "id": "af1e46e8-8e21-4f6e-92b9-9451359c372a",
   "metadata": {},
   "source": [
    "Bu sayılar: her bir resmin 32x32 boyutunda bir kare olduğunu göstermektedir. Renkli 3 kanal mevcuttur. Red Green Blue!"
   ]
  },
  {
   "cell_type": "markdown",
   "id": "8c1043b8-cdee-4135-8190-aaaf6d9eac9f",
   "metadata": {},
   "source": [
    "train verileri içerisinde ilk 3 fotoğraf ne diye bakmak istiyorsak:)"
   ]
  },
  {
   "cell_type": "code",
   "execution_count": 5,
   "id": "0a106b69-42ec-42dc-bb51-096c621be9b5",
   "metadata": {},
   "outputs": [
    {
     "data": {
      "text/plain": [
       "array([[6],\n",
       "       [9],\n",
       "       [9]], dtype=uint8)"
      ]
     },
     "execution_count": 5,
     "metadata": {},
     "output_type": "execute_result"
    }
   ],
   "source": [
    "y_train[:3]"
   ]
  },
  {
   "cell_type": "markdown",
   "id": "937d9a72-56dd-4433-a75b-0481e51859d1",
   "metadata": {},
   "source": [
    "bu sayılar veri setinde 6 numarasına uygun hangi resim ise ilk resim onu gösteriyor. sonraki iki resimde 9. sıradaki resimmiş demektir bu. array kelimesinden sonra iki tane kare parantez olduğunu görebiliyoruz, bu ikiboyutlu bir array demek."
   ]
  },
  {
   "cell_type": "code",
   "execution_count": 6,
   "id": "2a579273-e7b6-49f9-9ef0-e40a8643b4c1",
   "metadata": {},
   "outputs": [],
   "source": [
    "y_test = y_test.reshape(-1,)"
   ]
  },
  {
   "cell_type": "code",
   "execution_count": 7,
   "id": "3159d077-6128-4dab-849a-6138cda87204",
   "metadata": {},
   "outputs": [
    {
     "data": {
      "text/plain": [
       "array([3, 8, 8, ..., 5, 1, 7], dtype=uint8)"
      ]
     },
     "execution_count": 7,
     "metadata": {},
     "output_type": "execute_result"
    }
   ],
   "source": [
    "y_test"
   ]
  },
  {
   "cell_type": "markdown",
   "id": "8d33b69a-355a-4abb-bb6b-ef1e93d9e489",
   "metadata": {},
   "source": [
    "#göründüğü gibi tek paranteze düştü bu bir boyutlu bir array demektir."
   ]
  },
  {
   "cell_type": "code",
   "execution_count": 8,
   "id": "baa5b7bc-e475-43ec-90dc-825413432d17",
   "metadata": {},
   "outputs": [],
   "source": [
    "resim_sınıflari = [\"airplane\", \"automobile\",\"bird\",\"cat\",\"deer\", \"dog\", \"frog\", \"horse\", \"ship\", \"truck\"]"
   ]
  },
  {
   "cell_type": "code",
   "execution_count": 9,
   "id": "7e9fdb1c-3f70-4209-9a58-7e9b2dc34bf0",
   "metadata": {},
   "outputs": [],
   "source": [
    "def plot_sample(X, y, index):\n",
    "    plt.figure(figsize = (20,2))\n",
    "    plt.imshow(X[index])\n",
    "    plt.xlabel(resim_sınıflari[y[index]])"
   ]
  },
  {
   "cell_type": "code",
   "execution_count": 10,
   "id": "0d23b22a-2310-4dd3-97a8-c2e9d49ccce8",
   "metadata": {},
   "outputs": [
    {
     "data": {
      "image/png": "[encoded data removed]",
      "text/plain": [
       "<Figure size 2000x200 with 1 Axes>"
      ]
     },
     "metadata": {},
     "output_type": "display_data"
    }
   ],
   "source": [
    "plot_sample(X_test, y_test, 1)"
   ]
  },
  {
   "cell_type": "code",
   "execution_count": 11,
   "id": "1752b1be-3225-4c12-87e8-180104ef4988",
   "metadata": {},
   "outputs": [
    {
     "data": {
      "image/png": "[encoded data removed]",
      "text/plain": [
       "<Figure size 2000x200 with 1 Axes>"
      ]
     },
     "metadata": {},
     "output_type": "display_data"
    }
   ],
   "source": [
    "plot_sample(X_test, y_test, 0)"
   ]
  },
  {
   "cell_type": "markdown",
   "id": "db9f5aa9-bf4b-4a40-9376-d77be8bd933f",
   "metadata": {},
   "source": [
    "NORMALİZASYON"
   ]
  },
  {
   "cell_type": "code",
   "execution_count": 12,
   "id": "8e2b31e2-19c1-4d29-83bf-015bf85c45b5",
   "metadata": {},
   "outputs": [],
   "source": [
    "X_train = X_train/255\n",
    "X_test = X_test/255"
   ]
  },
  {
   "cell_type": "markdown",
   "id": "b9409603-2b8f-4db9-a7c9-f06e84ec0785",
   "metadata": {},
   "source": [
    "Verileri normalize etmek gerek yoksa CNN algoritması yanlış sonuç verebilir. 3 reng kanali RGB 0-255 pixel arasındadır. Basitce pixel değerini 255e bölelim 0-1 arasına çekmek için"
   ]
  },
  {
   "cell_type": "markdown",
   "id": "0a9982fd-129e-4957-9f18-98894ad6fdc7",
   "metadata": {},
   "source": [
    "CNN ALGORİTMASI TASARIMI"
   ]
  },
  {
   "cell_type": "code",
   "execution_count": 13,
   "id": "0f074489-c26f-4a6f-9c2f-8d61bc34dc5a",
   "metadata": {},
   "outputs": [],
   "source": [
    "deep_learning_model = tf.keras.Sequential([\n",
    "    #ilk bölümde evrişim katmanı burada fotoğraflardan tanımlama yapabilmek için özellikleri çıkarıyoruz.\n",
    "    tf.keras.layers.Conv2D(filters = 32, \n",
    "                           kernel_size = (3,3),\n",
    "                           activation = 'relu',\n",
    "                           input_shape = (32,32,3)),\n",
    "    \n",
    "    tf.keras.layers.MaxPooling2D(pool_size=(2, 2)), \n",
    "    \n",
    "    #overfittingi engelliyor ve hızlı çalışıyor.\n",
    "    \n",
    "    tf.keras.layers.Conv2D(filters = 64, \n",
    "                           kernel_size = (3,3), \n",
    "                           activation = 'relu'),\n",
    "    tf.keras.layers.MaxPooling2D(pool_size=(2,2)),\n",
    "    \n",
    "     #ikinci bölümde Articial network katmanları kuruyoruz.\n",
    "    tf.keras.layers.Flatten(), #cnn ve ann arasındaki bağlantıyı yapıyor.\n",
    "    tf.keras.layers.Dense(64, \n",
    "                          activation = 'relu'), #hiddenlayer 64 nerön\n",
    "    tf.keras.layers.Dense(10, \n",
    "                          activation = 'softmax') #outputlayer 10 nerön çünkü 10 sınıf olduğundan 10 output oluyor\n",
    "])"
   ]
  },
  {
   "cell_type": "code",
   "execution_count": 14,
   "id": "fbcddb03-219a-4966-840e-90beb055ec8c",
   "metadata": {},
   "outputs": [],
   "source": [
    "deep_learning_model.compile(optimizer = 'adam',\n",
    "                            loss = 'SparseCategoricalCrossentropy',\n",
    "                            metrics = ['accuracy'])\n",
    "                            "
   ]
  },
  {
   "cell_type": "markdown",
   "id": "76a9ed9e-3eaf-4316-a381-a5ab8e85be8f",
   "metadata": {},
   "source": [
    "Modeli eğitmeye başlayalım."
   ]
  },
  {
   "cell_type": "code",
   "execution_count": 15,
   "id": "a233ab51-4813-4705-ab07-b6bb72fca86b",
   "metadata": {},
   "outputs": [
    {
     "name": "stdout",
     "output_type": "stream",
     "text": [
      "Epoch 1/5\n",
      "1563/1563 [==============================] - 15s 10ms/step - loss: 1.4753 - accuracy: 0.4681\n",
      "Epoch 2/5\n",
      "1563/1563 [==============================] - 15s 10ms/step - loss: 1.1101 - accuracy: 0.6112\n",
      "Epoch 3/5\n",
      "1563/1563 [==============================] - 15s 10ms/step - loss: 0.9768 - accuracy: 0.6604\n",
      "Epoch 4/5\n",
      "1563/1563 [==============================] - 15s 10ms/step - loss: 0.8899 - accuracy: 0.6913\n",
      "Epoch 5/5\n",
      "1563/1563 [==============================] - 15s 10ms/step - loss: 0.8307 - accuracy: 0.7135\n"
     ]
    },
    {
     "data": {
      "text/plain": [
       "<tensorflow.python.keras.callbacks.History at 0x1f9995d5d60>"
      ]
     },
     "execution_count": 15,
     "metadata": {},
     "output_type": "execute_result"
    }
   ],
   "source": [
    "deep_learning_model.fit(X_train, y_train, epochs = 5)"
   ]
  },
  {
   "cell_type": "code",
   "execution_count": 16,
   "id": "b2add7e0-ff15-4db7-9149-c0e475cc70e0",
   "metadata": {},
   "outputs": [
    {
     "name": "stdout",
     "output_type": "stream",
     "text": [
      "313/313 [==============================] - 1s 3ms/step - loss: 0.9446 - accuracy: 0.6807\n"
     ]
    },
    {
     "data": {
      "text/plain": [
       "[0.9445817470550537, 0.6807000041007996]"
      ]
     },
     "execution_count": 16,
     "metadata": {},
     "output_type": "execute_result"
    }
   ],
   "source": [
    "deep_learning_model.evaluate(X_test, y_test)"
   ]
  },
  {
   "cell_type": "markdown",
   "id": "14cb3831-febe-4468-a1a2-5c735450bd64",
   "metadata": {},
   "source": [
    "67% test verisiyle doğruluk, 70% ile train verisiyle doğruluk aldı."
   ]
  },
  {
   "cell_type": "code",
   "execution_count": null,
   "id": "4d31a396-2562-4de8-9f8b-052d8f68baf7",
   "metadata": {},
   "outputs": [],
   "source": []
  },
  {
   "cell_type": "code",
   "execution_count": null,
   "id": "f86228fa-eef7-44bf-b63c-add94cc25df2",
   "metadata": {},
   "outputs": [],
   "source": []
  }
 ],
 "metadata": {
  "kernelspec": {
   "display_name": "Python 3 (ipykernel)",
   "language": "python",
   "name": "python3"
  },
  "language_info": {
   "codemirror_mode": {
    "name": "ipython",
    "version": 3
   },
   "file_extension": ".py",
   "mimetype": "text/x-python",
   "name": "python",
   "nbconvert_exporter": "python",
   "pygments_lexer": "ipython3",
   "version": "3.8.18"
  }
 },
 "nbformat": 4,
 "nbformat_minor": 5
}
